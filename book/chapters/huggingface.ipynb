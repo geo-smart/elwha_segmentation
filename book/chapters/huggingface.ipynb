{
 "cells": [
  {
   "cell_type": "code",
   "execution_count": 1,
   "metadata": {
    "metadata": {}
   },
   "outputs": [],
   "source": [
    "from datasets import Dataset, DatasetDict, Image\n",
    "from util import TLDataset, readSetFromFile\n",
    "import numpy as np"
   ]
  },
  {
   "cell_type": "code",
   "execution_count": 2,
   "metadata": {
    "metadata": {}
   },
   "outputs": [],
   "source": [
    "def loadImages(\n",
    "    masks_glob, \n",
    "    indices_file=None,\n",
    "    imagery_folder=\"imagery/\",\n",
    "    masks_folder=\"masks/\", \n",
    "    fraction=0.1, \n",
    "    exclude=[]\n",
    "):\n",
    "    all_data = TLDataset(\n",
    "        \"../learning/\", imagery_folder, masks_folder, masks_glob, \n",
    "        subset=\"Train\", fraction=0, seed=1, # We want to select every image\n",
    "    )\n",
    "\n",
    "    indices = list(readSetFromFile(indices_file)) if indices_file else None\n",
    "    all_names = np.array([name.replace(\".png\", \"\") for name in all_data.names])\n",
    "    selected_names = all_names[indices] if indices else all_names\n",
    "    names = [name for name in selected_names if name not in exclude]\n",
    "    if exclude: print(f\"Excluded {len(selected_names) - len(names)} images\")\n",
    "\n",
    "    cutoff = int(len(names) * fraction)\n",
    "    train_names = names[cutoff:]\n",
    "    val_names = names[:cutoff]\n",
    "    suffix = masks_glob.replace(\"*\", \"\")\n",
    "\n",
    "    image_paths_train = [f\"../learning/{imagery_folder}{name}.png\" for name in train_names]\n",
    "    label_paths_train = [f\"../learning/{masks_folder}{name}{suffix}\" for name in train_names]\n",
    "\n",
    "    image_paths_val = [f\"../learning/{imagery_folder}{name}.png\" for name in val_names]\n",
    "    label_paths_val = [f\"../learning/{masks_folder}{name}{suffix}\" for name in val_names]\n",
    "    print(f\"Located {len(train_names)} train images\")\n",
    "    if (val_names): print(f\"Located {len(val_names)} validation images\")\n",
    "\n",
    "    return (train_names, image_paths_train, label_paths_train), (val_names, image_paths_val, label_paths_val)\n",
    "\n",
    "def createDataset(names, image_paths, label_paths=None):\n",
    "    if label_paths:\n",
    "        dataset = Dataset.from_dict({\"image\": image_paths, \"label\": label_paths, \"name\": names})\n",
    "        dataset = dataset.cast_column(\"image\", Image())\n",
    "        dataset = dataset.cast_column(\"label\", Image())\n",
    "    else:\n",
    "        dataset = Dataset.from_dict({\"image\": image_paths, \"name\": names})\n",
    "        dataset = dataset.cast_column(\"image\", Image())\n",
    "\n",
    "    return dataset"
   ]
  },
  {
   "cell_type": "markdown",
   "metadata": {},
   "source": [
    "[stodoran/elwha-segmentation-manual](https://huggingface.co/datasets/stodoran/elwha-segmentation-manual)"
   ]
  },
  {
   "cell_type": "code",
   "execution_count": 3,
   "metadata": {
    "metadata": {}
   },
   "outputs": [
    {
     "name": "stdout",
     "output_type": "stream",
     "text": [
      "Found and loaded 4382 images with glob *_corrected.png.\n",
      "Subset of 4382 ground truth segmentation masks marked for Train.\n",
      "Located 125 train images\n",
      "Located 101 validation images\n"
     ]
    }
   ],
   "source": [
    "train_paths, val_paths = loadImages(\"*_corrected.png\", \"../data/train_images.txt\", fraction=0.45)\n",
    "train_dataset_manual = createDataset(*train_paths)\n",
    "validation_dataset_manual = createDataset(*val_paths)\n",
    "\n",
    "dataset = DatasetDict({\n",
    "    \"train\": train_dataset_manual,\n",
    "    \"validation\": validation_dataset_manual,\n",
    "})\n",
    "# This function assumes you have ran the huggingface-cli login command in the terminal/notebook\n",
    "# dataset.push_to_hub(\"stodoran/elwha-segmentation-manual\")"
   ]
  },
  {
   "cell_type": "markdown",
   "metadata": {},
   "source": [
    "The extra image names set to be excluded are additional datapoints used for validation experiments and must not be trained on."
   ]
  },
  {
   "cell_type": "code",
   "execution_count": 4,
   "metadata": {
    "metadata": {}
   },
   "outputs": [],
   "source": [
    "exclude_names = val_paths[0] + [\"Elwha_MR_20160714_062_014\", \"Elwha_MR_20170922_062_014\"]"
   ]
  },
  {
   "cell_type": "markdown",
   "metadata": {},
   "source": [
    "[stodoran/elwha-segmentation-v1](https://huggingface.co/datasets/stodoran/elwha-segmentation-v1)"
   ]
  },
  {
   "cell_type": "code",
   "execution_count": 5,
   "metadata": {
    "metadata": {}
   },
   "outputs": [
    {
     "name": "stdout",
     "output_type": "stream",
     "text": [
      "Found and loaded 4384 images with glob *_binary.png.\n",
      "Subset of 4384 ground truth segmentation masks marked for Train.\n",
      "Excluded 69 images\n",
      "Located 1149 train images\n"
     ]
    }
   ],
   "source": [
    "train_paths_v1, _ = loadImages(\"*_binary.png\", \"../data/useful_images.txt\", fraction=0, exclude=exclude_names)\n",
    "train_dataset_v1 = createDataset(*train_paths_v1)\n",
    "\n",
    "dataset = DatasetDict({\n",
    "    \"train\": train_dataset_v1,\n",
    "    \"validation\": validation_dataset_manual,\n",
    "})\n",
    "# dataset.push_to_hub(\"stodoran/elwha-segmentation-v1\")"
   ]
  },
  {
   "cell_type": "markdown",
   "metadata": {},
   "source": [
    "[stodoran/elwha-segmentation-predict](https://huggingface.co/datasets/stodoran/elwha-segmentation-predict)"
   ]
  },
  {
   "cell_type": "code",
   "execution_count": 8,
   "metadata": {
    "metadata": {}
   },
   "outputs": [
    {
     "name": "stdout",
     "output_type": "stream",
     "text": [
      "Found and loaded 4382 images with glob *.png.\n",
      "Subset of 4382 ground truth segmentation masks marked for Train.\n",
      "Located 4382 train images\n"
     ]
    },
    {
     "data": {
      "application/vnd.jupyter.widget-view+json": {
       "model_id": "7ee8d40b3db44cf6ae0eafc849a0052f",
       "version_major": 2,
       "version_minor": 0
      },
      "text/plain": [
       "Uploading the dataset shards:   0%|          | 0/9 [00:00<?, ?it/s]"
      ]
     },
     "metadata": {},
     "output_type": "display_data"
    },
    {
     "data": {
      "application/vnd.jupyter.widget-view+json": {
       "model_id": "b45ef096170e4096af4b808c2fcfb5d7",
       "version_major": 2,
       "version_minor": 0
      },
      "text/plain": [
       "Map:   0%|          | 0/487 [00:00<?, ? examples/s]"
      ]
     },
     "metadata": {},
     "output_type": "display_data"
    },
    {
     "data": {
      "application/vnd.jupyter.widget-view+json": {
       "model_id": "5b55a3644fa943c18142dff85b110d30",
       "version_major": 2,
       "version_minor": 0
      },
      "text/plain": [
       "Creating parquet from Arrow format:   0%|          | 0/5 [00:00<?, ?ba/s]"
      ]
     },
     "metadata": {},
     "output_type": "display_data"
    },
    {
     "data": {
      "application/vnd.jupyter.widget-view+json": {
       "model_id": "92d223b31e354db4833ccf00a976c3d8",
       "version_major": 2,
       "version_minor": 0
      },
      "text/plain": [
       "Map:   0%|          | 0/487 [00:00<?, ? examples/s]"
      ]
     },
     "metadata": {},
     "output_type": "display_data"
    },
    {
     "data": {
      "application/vnd.jupyter.widget-view+json": {
       "model_id": "6bc76a14f23e4ccab5bead39163abc9a",
       "version_major": 2,
       "version_minor": 0
      },
      "text/plain": [
       "Creating parquet from Arrow format:   0%|          | 0/5 [00:00<?, ?ba/s]"
      ]
     },
     "metadata": {},
     "output_type": "display_data"
    },
    {
     "data": {
      "application/vnd.jupyter.widget-view+json": {
       "model_id": "89004b5f1c5c4401921f378655226c9a",
       "version_major": 2,
       "version_minor": 0
      },
      "text/plain": [
       "Map:   0%|          | 0/487 [00:00<?, ? examples/s]"
      ]
     },
     "metadata": {},
     "output_type": "display_data"
    },
    {
     "data": {
      "application/vnd.jupyter.widget-view+json": {
       "model_id": "6c9daf18e2664d71a443b48302c408fb",
       "version_major": 2,
       "version_minor": 0
      },
      "text/plain": [
       "Creating parquet from Arrow format:   0%|          | 0/5 [00:00<?, ?ba/s]"
      ]
     },
     "metadata": {},
     "output_type": "display_data"
    },
    {
     "data": {
      "application/vnd.jupyter.widget-view+json": {
       "model_id": "328ce32ad80047c98e707811ecfa4c91",
       "version_major": 2,
       "version_minor": 0
      },
      "text/plain": [
       "Map:   0%|          | 0/487 [00:00<?, ? examples/s]"
      ]
     },
     "metadata": {},
     "output_type": "display_data"
    },
    {
     "data": {
      "application/vnd.jupyter.widget-view+json": {
       "model_id": "fd3d1b564dec46138a37df87484ddb4a",
       "version_major": 2,
       "version_minor": 0
      },
      "text/plain": [
       "Creating parquet from Arrow format:   0%|          | 0/5 [00:00<?, ?ba/s]"
      ]
     },
     "metadata": {},
     "output_type": "display_data"
    },
    {
     "data": {
      "application/vnd.jupyter.widget-view+json": {
       "model_id": "f4dad513dd76427b9544f197faee236e",
       "version_major": 2,
       "version_minor": 0
      },
      "text/plain": [
       "Map:   0%|          | 0/487 [00:00<?, ? examples/s]"
      ]
     },
     "metadata": {},
     "output_type": "display_data"
    },
    {
     "data": {
      "application/vnd.jupyter.widget-view+json": {
       "model_id": "f7d962235e33492f8330d19ea8b7b682",
       "version_major": 2,
       "version_minor": 0
      },
      "text/plain": [
       "Creating parquet from Arrow format:   0%|          | 0/5 [00:00<?, ?ba/s]"
      ]
     },
     "metadata": {},
     "output_type": "display_data"
    },
    {
     "data": {
      "application/vnd.jupyter.widget-view+json": {
       "model_id": "d7ea755512ff46caa982236ffb6f7dc4",
       "version_major": 2,
       "version_minor": 0
      },
      "text/plain": [
       "Map:   0%|          | 0/487 [00:00<?, ? examples/s]"
      ]
     },
     "metadata": {},
     "output_type": "display_data"
    },
    {
     "data": {
      "application/vnd.jupyter.widget-view+json": {
       "model_id": "e4135492e53e4e3ab107a497510e9638",
       "version_major": 2,
       "version_minor": 0
      },
      "text/plain": [
       "Creating parquet from Arrow format:   0%|          | 0/5 [00:00<?, ?ba/s]"
      ]
     },
     "metadata": {},
     "output_type": "display_data"
    },
    {
     "data": {
      "application/vnd.jupyter.widget-view+json": {
       "model_id": "cb454e46308c408f85d25ab0db9ad0d7",
       "version_major": 2,
       "version_minor": 0
      },
      "text/plain": [
       "Map:   0%|          | 0/487 [00:00<?, ? examples/s]"
      ]
     },
     "metadata": {},
     "output_type": "display_data"
    },
    {
     "data": {
      "application/vnd.jupyter.widget-view+json": {
       "model_id": "02b94d575d43464db9fb81820df8b360",
       "version_major": 2,
       "version_minor": 0
      },
      "text/plain": [
       "Creating parquet from Arrow format:   0%|          | 0/5 [00:00<?, ?ba/s]"
      ]
     },
     "metadata": {},
     "output_type": "display_data"
    },
    {
     "data": {
      "application/vnd.jupyter.widget-view+json": {
       "model_id": "c6ace8d4667d4be4a47ecc5907bb4121",
       "version_major": 2,
       "version_minor": 0
      },
      "text/plain": [
       "Map:   0%|          | 0/487 [00:00<?, ? examples/s]"
      ]
     },
     "metadata": {},
     "output_type": "display_data"
    },
    {
     "data": {
      "application/vnd.jupyter.widget-view+json": {
       "model_id": "cf1bdb3506524e7c97e277e5d885ac6f",
       "version_major": 2,
       "version_minor": 0
      },
      "text/plain": [
       "Creating parquet from Arrow format:   0%|          | 0/5 [00:00<?, ?ba/s]"
      ]
     },
     "metadata": {},
     "output_type": "display_data"
    },
    {
     "data": {
      "application/vnd.jupyter.widget-view+json": {
       "model_id": "f2d8f1716b384aa495f3a08e05236c68",
       "version_major": 2,
       "version_minor": 0
      },
      "text/plain": [
       "Map:   0%|          | 0/486 [00:00<?, ? examples/s]"
      ]
     },
     "metadata": {},
     "output_type": "display_data"
    },
    {
     "data": {
      "application/vnd.jupyter.widget-view+json": {
       "model_id": "80147717e5d640be9b2519f1ad821e67",
       "version_major": 2,
       "version_minor": 0
      },
      "text/plain": [
       "Creating parquet from Arrow format:   0%|          | 0/5 [00:00<?, ?ba/s]"
      ]
     },
     "metadata": {},
     "output_type": "display_data"
    },
    {
     "data": {
      "text/plain": [
       "CommitInfo(commit_url='https://huggingface.co/datasets/stodoran/elwha-segmentation-predict/commit/6709ae1136a4109c9eb40806e8de78405549d70f', commit_message='Upload dataset', commit_description='', oid='6709ae1136a4109c9eb40806e8de78405549d70f', pr_url=None, pr_revision=None, pr_num=None)"
      ]
     },
     "execution_count": 8,
     "metadata": {},
     "output_type": "execute_result"
    }
   ],
   "source": [
    "train_paths_pred, _ = loadImages(\"*.png\", imagery_folder=\"imagery/\", masks_folder=\"imagery/\", fraction=0)\n",
    "train_paths_pred = train_paths_pred[:2]\n",
    "train_dataset_pred = createDataset(*train_paths_pred)\n",
    "\n",
    "dataset = DatasetDict({\n",
    "    \"data\": train_dataset_pred,\n",
    "})\n",
    "# dataset.push_to_hub(\"stodoran/elwha-segmentation-predict\")"
   ]
  }
 ],
 "metadata": {
  "kernelspec": {
   "display_name": "elwha_env",
   "language": "python",
   "name": "python3"
  },
  "language_info": {
   "codemirror_mode": {
    "name": "ipython",
    "version": 3
   },
   "file_extension": ".py",
   "mimetype": "text/x-python",
   "name": "python",
   "nbconvert_exporter": "python",
   "pygments_lexer": "ipython3",
   "version": "3.10.12"
  }
 },
 "nbformat": 4,
 "nbformat_minor": 2
}
