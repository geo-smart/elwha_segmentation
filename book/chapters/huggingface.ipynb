{
 "cells": [
  {
   "cell_type": "code",
   "execution_count": 1,
   "metadata": {
    "metadata": {}
   },
   "outputs": [],
   "source": [
    "from datasets import Dataset, DatasetDict, Image\n",
    "from util import ImageDataset, readSetFromFile\n",
    "import numpy as np"
   ]
  },
  {
   "cell_type": "code",
   "execution_count": 2,
   "metadata": {
    "metadata": {}
   },
   "outputs": [],
   "source": [
    "def load_images(\n",
    "    masks_glob, \n",
    "    includes_file=None,\n",
    "    imagery_folder=\"imagery/\",\n",
    "    masks_folder=\"masks/\", \n",
    "    fraction=0.1, \n",
    "    exclude=[]\n",
    "):\n",
    "    include_masks = list(readSetFromFile(includes_file, str)) if includes_file else None\n",
    "\n",
    "    train_data = ImageDataset(\n",
    "        \"../learning/\" + imagery_folder, \n",
    "        \"../learning/\" + masks_folder, \n",
    "        masks_glob, \n",
    "        include_masks=include_masks, \n",
    "        exclude_masks=exclude, \n",
    "        subset=\"Train\", \n",
    "        fraction=fraction,\n",
    "    )\n",
    "    print(\"\")\n",
    "    val_data = ImageDataset(\n",
    "        \"../learning/\" + imagery_folder, \n",
    "        \"../learning/\" + masks_folder, \n",
    "        masks_glob, \n",
    "        include_masks=include_masks, \n",
    "        exclude_masks=exclude, \n",
    "        subset=\"Test\", \n",
    "        fraction=fraction,\n",
    "    )\n",
    "\n",
    "    train_image_names = [str(path) for path in train_data.image_names]\n",
    "    train_mask_names = [str(path) for path in train_data.mask_names]\n",
    "\n",
    "    val_image_names = [str(path) for path in val_data.image_names]\n",
    "    val_mask_names = [str(path) for path in val_data.mask_names]\n",
    "\n",
    "    return (train_data.names, train_image_names, train_mask_names), (val_data.names, val_image_names, val_mask_names)\n",
    "\n",
    "def create_dataset(names, image_paths, label_paths=None):\n",
    "    if label_paths is not None:\n",
    "        dataset = Dataset.from_dict({\"image\": image_paths, \"label\": label_paths, \"name\": names})\n",
    "        dataset = dataset.cast_column(\"image\", Image())\n",
    "        dataset = dataset.cast_column(\"label\", Image())\n",
    "    else:\n",
    "        dataset = Dataset.from_dict({\"image\": image_paths, \"name\": names})\n",
    "        dataset = dataset.cast_column(\"image\", Image())\n",
    "\n",
    "    return dataset"
   ]
  },
  {
   "cell_type": "markdown",
   "metadata": {},
   "source": [
    "[stodoran/elwha-segmentation-manual](https://huggingface.co/datasets/stodoran/elwha-segmentation-manual)"
   ]
  },
  {
   "cell_type": "code",
   "execution_count": 3,
   "metadata": {
    "metadata": {}
   },
   "outputs": [
    {
     "name": "stdout",
     "output_type": "stream",
     "text": [
      "Found and loaded 4382 images with glob *_corrected.png.\n",
      "Pruned 4156 masks based on set of 0 included masks.\n",
      "Pruned 0 masks from set of 0 excluded masks.\n",
      "Subset of 125 ground truth segmentation masks marked for Train.\n",
      "\n",
      "Found and loaded 4382 images with glob *_corrected.png.\n",
      "Pruned 4156 masks based on set of 0 included masks.\n",
      "Pruned 0 masks from set of 0 excluded masks.\n",
      "Subset of 101 ground truth segmentation masks marked for Test.\n"
     ]
    },
    {
     "data": {
      "application/vnd.jupyter.widget-view+json": {
       "model_id": "e676a8f4c0be4a2787414db825e564af",
       "version_major": 2,
       "version_minor": 0
      },
      "text/plain": [
       "Uploading the dataset shards:   0%|          | 0/1 [00:00<?, ?it/s]"
      ]
     },
     "metadata": {},
     "output_type": "display_data"
    },
    {
     "data": {
      "application/vnd.jupyter.widget-view+json": {
       "model_id": "6f5069970fbf409b9f4a466ad7255545",
       "version_major": 2,
       "version_minor": 0
      },
      "text/plain": [
       "Map:   0%|          | 0/125 [00:00<?, ? examples/s]"
      ]
     },
     "metadata": {},
     "output_type": "display_data"
    },
    {
     "data": {
      "application/vnd.jupyter.widget-view+json": {
       "model_id": "ab7f61cf7864429bbe29f261d9e5b25f",
       "version_major": 2,
       "version_minor": 0
      },
      "text/plain": [
       "Creating parquet from Arrow format:   0%|          | 0/2 [00:00<?, ?ba/s]"
      ]
     },
     "metadata": {},
     "output_type": "display_data"
    },
    {
     "data": {
      "application/vnd.jupyter.widget-view+json": {
       "model_id": "7199c314cbd849e280f5323fe081e425",
       "version_major": 2,
       "version_minor": 0
      },
      "text/plain": [
       "Uploading the dataset shards:   0%|          | 0/1 [00:00<?, ?it/s]"
      ]
     },
     "metadata": {},
     "output_type": "display_data"
    },
    {
     "data": {
      "application/vnd.jupyter.widget-view+json": {
       "model_id": "c890c6ee9c344276bb65c588bd744171",
       "version_major": 2,
       "version_minor": 0
      },
      "text/plain": [
       "Map:   0%|          | 0/101 [00:00<?, ? examples/s]"
      ]
     },
     "metadata": {},
     "output_type": "display_data"
    },
    {
     "data": {
      "application/vnd.jupyter.widget-view+json": {
       "model_id": "598cae3231a3474abd62c775b9b3efd8",
       "version_major": 2,
       "version_minor": 0
      },
      "text/plain": [
       "Creating parquet from Arrow format:   0%|          | 0/2 [00:00<?, ?ba/s]"
      ]
     },
     "metadata": {},
     "output_type": "display_data"
    },
    {
     "data": {
      "text/plain": [
       "CommitInfo(commit_url='https://huggingface.co/datasets/stodoran/elwha-segmentation-manual/commit/7fad9623980c28fda648192e2a25fe4e4432db70', commit_message='Upload dataset', commit_description='', oid='7fad9623980c28fda648192e2a25fe4e4432db70', pr_url=None, pr_revision=None, pr_num=None)"
      ]
     },
     "execution_count": 3,
     "metadata": {},
     "output_type": "execute_result"
    }
   ],
   "source": [
    "train_paths, val_paths = load_images(\"*_corrected.png\", \"../data/train_images.txt\", fraction=0.45)\n",
    "train_dataset_manual = create_dataset(*train_paths)\n",
    "validation_dataset_manual = create_dataset(*val_paths)\n",
    "\n",
    "dataset = DatasetDict({\n",
    "    \"train\": train_dataset_manual,\n",
    "    \"validation\": validation_dataset_manual,\n",
    "})\n",
    "# This function assumes you have ran the huggingface-cli login command in the terminal/notebook\n",
    "dataset.push_to_hub(\"stodoran/elwha-segmentation-manual\")"
   ]
  },
  {
   "cell_type": "markdown",
   "metadata": {},
   "source": [
    "The extra image names set to be excluded are additional datapoints used for validation experiments and must not be trained on."
   ]
  },
  {
   "cell_type": "code",
   "execution_count": 4,
   "metadata": {
    "metadata": {}
   },
   "outputs": [],
   "source": [
    "exclude_names = np.concatenate((val_paths[0], [\"Elwha_MR_20160714_062_014\", \"Elwha_MR_20170922_062_014\"]))"
   ]
  },
  {
   "cell_type": "markdown",
   "metadata": {},
   "source": [
    "[stodoran/elwha-segmentation-v1](https://huggingface.co/datasets/stodoran/elwha-segmentation-v1)"
   ]
  },
  {
   "cell_type": "code",
   "execution_count": 5,
   "metadata": {
    "metadata": {}
   },
   "outputs": [
    {
     "name": "stdout",
     "output_type": "stream",
     "text": [
      "Found and loaded 4382 images with glob *_binary.png.\n",
      "Pruned 3164 masks based on set of 103 included masks.\n",
      "Pruned 69 masks from set of 103 excluded masks.\n",
      "Subset of 1149 ground truth segmentation masks marked for Train.\n",
      "\n",
      "Found and loaded 4382 images with glob *_binary.png.\n",
      "Pruned 3164 masks based on set of 103 included masks.\n",
      "Pruned 69 masks from set of 103 excluded masks.\n",
      "Subset of 0 ground truth segmentation masks marked for Test.\n"
     ]
    },
    {
     "data": {
      "application/vnd.jupyter.widget-view+json": {
       "model_id": "c5d400c3244a40f8a20637a76150914e",
       "version_major": 2,
       "version_minor": 0
      },
      "text/plain": [
       "Uploading the dataset shards:   0%|          | 0/3 [00:00<?, ?it/s]"
      ]
     },
     "metadata": {},
     "output_type": "display_data"
    },
    {
     "data": {
      "application/vnd.jupyter.widget-view+json": {
       "model_id": "646588c9dc0c46378477cc335ea96a29",
       "version_major": 2,
       "version_minor": 0
      },
      "text/plain": [
       "Map:   0%|          | 0/383 [00:00<?, ? examples/s]"
      ]
     },
     "metadata": {},
     "output_type": "display_data"
    },
    {
     "data": {
      "application/vnd.jupyter.widget-view+json": {
       "model_id": "d84c06dddb99442d85c8527ff0c5d181",
       "version_major": 2,
       "version_minor": 0
      },
      "text/plain": [
       "Creating parquet from Arrow format:   0%|          | 0/4 [00:00<?, ?ba/s]"
      ]
     },
     "metadata": {},
     "output_type": "display_data"
    },
    {
     "data": {
      "application/vnd.jupyter.widget-view+json": {
       "model_id": "db6cf1f692dd4ca7ae014c774ab4b8a9",
       "version_major": 2,
       "version_minor": 0
      },
      "text/plain": [
       "Map:   0%|          | 0/383 [00:00<?, ? examples/s]"
      ]
     },
     "metadata": {},
     "output_type": "display_data"
    },
    {
     "data": {
      "application/vnd.jupyter.widget-view+json": {
       "model_id": "9f7f67b4c8f14dd1a5c17ba13243812f",
       "version_major": 2,
       "version_minor": 0
      },
      "text/plain": [
       "Creating parquet from Arrow format:   0%|          | 0/4 [00:00<?, ?ba/s]"
      ]
     },
     "metadata": {},
     "output_type": "display_data"
    },
    {
     "data": {
      "application/vnd.jupyter.widget-view+json": {
       "model_id": "0a09dda011a04d6289f28ce42d04b40d",
       "version_major": 2,
       "version_minor": 0
      },
      "text/plain": [
       "Map:   0%|          | 0/383 [00:00<?, ? examples/s]"
      ]
     },
     "metadata": {},
     "output_type": "display_data"
    },
    {
     "data": {
      "application/vnd.jupyter.widget-view+json": {
       "model_id": "26e1add50fe446bfaabbd5979bf474ec",
       "version_major": 2,
       "version_minor": 0
      },
      "text/plain": [
       "Creating parquet from Arrow format:   0%|          | 0/4 [00:00<?, ?ba/s]"
      ]
     },
     "metadata": {},
     "output_type": "display_data"
    },
    {
     "data": {
      "application/vnd.jupyter.widget-view+json": {
       "model_id": "0808e452400f4db8b6c0f227cce3f476",
       "version_major": 2,
       "version_minor": 0
      },
      "text/plain": [
       "Uploading the dataset shards:   0%|          | 0/1 [00:00<?, ?it/s]"
      ]
     },
     "metadata": {},
     "output_type": "display_data"
    },
    {
     "data": {
      "application/vnd.jupyter.widget-view+json": {
       "model_id": "18e7a9a62d644004b1ea75965f93b801",
       "version_major": 2,
       "version_minor": 0
      },
      "text/plain": [
       "Map:   0%|          | 0/101 [00:00<?, ? examples/s]"
      ]
     },
     "metadata": {},
     "output_type": "display_data"
    },
    {
     "data": {
      "application/vnd.jupyter.widget-view+json": {
       "model_id": "60fb08b9dd2e477faa97bea9e6b74493",
       "version_major": 2,
       "version_minor": 0
      },
      "text/plain": [
       "Creating parquet from Arrow format:   0%|          | 0/2 [00:00<?, ?ba/s]"
      ]
     },
     "metadata": {},
     "output_type": "display_data"
    },
    {
     "data": {
      "application/vnd.jupyter.widget-view+json": {
       "model_id": "5b8ae4c7b7e545a9bbf6fa352ea3023b",
       "version_major": 2,
       "version_minor": 0
      },
      "text/plain": [
       "README.md:   0%|          | 0.00/477 [00:00<?, ?B/s]"
      ]
     },
     "metadata": {},
     "output_type": "display_data"
    },
    {
     "data": {
      "text/plain": [
       "CommitInfo(commit_url='https://huggingface.co/datasets/stodoran/elwha-segmentation-v1/commit/3f1811afc9b341bf14502e772e908e74fead9469', commit_message='Upload dataset', commit_description='', oid='3f1811afc9b341bf14502e772e908e74fead9469', pr_url=None, pr_revision=None, pr_num=None)"
      ]
     },
     "execution_count": 5,
     "metadata": {},
     "output_type": "execute_result"
    }
   ],
   "source": [
    "train_paths_v1, _ = load_images(\"*_binary.png\", \"../data/useful_images.txt\", fraction=0, exclude=exclude_names)\n",
    "train_dataset_v1 = create_dataset(*train_paths_v1)\n",
    "\n",
    "dataset = DatasetDict({\n",
    "    \"train\": train_dataset_v1,\n",
    "    \"validation\": validation_dataset_manual,\n",
    "})\n",
    "dataset.push_to_hub(\"stodoran/elwha-segmentation-v1\")"
   ]
  },
  {
   "cell_type": "markdown",
   "metadata": {},
   "source": [
    "[stodoran/elwha-segmentation-v2](https://huggingface.co/datasets/stodoran/elwha-segmentation-v2)"
   ]
  },
  {
   "cell_type": "code",
   "execution_count": 6,
   "metadata": {
    "metadata": {}
   },
   "outputs": [
    {
     "name": "stdout",
     "output_type": "stream",
     "text": [
      "Found and loaded 1148 images with glob *[!_manualfix].png.\n",
      "Pruned 41 masks from set of 103 excluded masks.\n",
      "Subset of 1107 ground truth segmentation masks marked for Train.\n",
      "\n",
      "Found and loaded 1148 images with glob *[!_manualfix].png.\n",
      "Pruned 41 masks from set of 103 excluded masks.\n",
      "Subset of 0 ground truth segmentation masks marked for Test.\n"
     ]
    },
    {
     "data": {
      "application/vnd.jupyter.widget-view+json": {
       "model_id": "20f67f645c0b4877b45689148299781f",
       "version_major": 2,
       "version_minor": 0
      },
      "text/plain": [
       "Uploading the dataset shards:   0%|          | 0/3 [00:00<?, ?it/s]"
      ]
     },
     "metadata": {},
     "output_type": "display_data"
    },
    {
     "data": {
      "application/vnd.jupyter.widget-view+json": {
       "model_id": "eefe0aef84a74ac48b79360ada57ef17",
       "version_major": 2,
       "version_minor": 0
      },
      "text/plain": [
       "Map:   0%|          | 0/369 [00:00<?, ? examples/s]"
      ]
     },
     "metadata": {},
     "output_type": "display_data"
    },
    {
     "data": {
      "application/vnd.jupyter.widget-view+json": {
       "model_id": "4ac7cb5c7bf6403e9a1d24999bcfa6af",
       "version_major": 2,
       "version_minor": 0
      },
      "text/plain": [
       "Creating parquet from Arrow format:   0%|          | 0/4 [00:00<?, ?ba/s]"
      ]
     },
     "metadata": {},
     "output_type": "display_data"
    },
    {
     "data": {
      "application/vnd.jupyter.widget-view+json": {
       "model_id": "9ddfb31432484d498b8a3a7d5dea3ca9",
       "version_major": 2,
       "version_minor": 0
      },
      "text/plain": [
       "Map:   0%|          | 0/369 [00:00<?, ? examples/s]"
      ]
     },
     "metadata": {},
     "output_type": "display_data"
    },
    {
     "data": {
      "application/vnd.jupyter.widget-view+json": {
       "model_id": "3b665bd97006422fb365eb31a901cf44",
       "version_major": 2,
       "version_minor": 0
      },
      "text/plain": [
       "Creating parquet from Arrow format:   0%|          | 0/4 [00:00<?, ?ba/s]"
      ]
     },
     "metadata": {},
     "output_type": "display_data"
    },
    {
     "data": {
      "application/vnd.jupyter.widget-view+json": {
       "model_id": "44e7bcf7f2f343f0b17b88efa8c525c0",
       "version_major": 2,
       "version_minor": 0
      },
      "text/plain": [
       "Map:   0%|          | 0/369 [00:00<?, ? examples/s]"
      ]
     },
     "metadata": {},
     "output_type": "display_data"
    },
    {
     "data": {
      "application/vnd.jupyter.widget-view+json": {
       "model_id": "a25b5068023043ef9d11d6474e9d97a3",
       "version_major": 2,
       "version_minor": 0
      },
      "text/plain": [
       "Creating parquet from Arrow format:   0%|          | 0/4 [00:00<?, ?ba/s]"
      ]
     },
     "metadata": {},
     "output_type": "display_data"
    },
    {
     "data": {
      "application/vnd.jupyter.widget-view+json": {
       "model_id": "bc770401080e44c99df2331cfdf0cdf7",
       "version_major": 2,
       "version_minor": 0
      },
      "text/plain": [
       "Uploading the dataset shards:   0%|          | 0/1 [00:00<?, ?it/s]"
      ]
     },
     "metadata": {},
     "output_type": "display_data"
    },
    {
     "data": {
      "application/vnd.jupyter.widget-view+json": {
       "model_id": "265c37558a1d49939aadf8937ec6c3ce",
       "version_major": 2,
       "version_minor": 0
      },
      "text/plain": [
       "Map:   0%|          | 0/101 [00:00<?, ? examples/s]"
      ]
     },
     "metadata": {},
     "output_type": "display_data"
    },
    {
     "data": {
      "application/vnd.jupyter.widget-view+json": {
       "model_id": "41393c814fa24b95997f831b16b6a5da",
       "version_major": 2,
       "version_minor": 0
      },
      "text/plain": [
       "Creating parquet from Arrow format:   0%|          | 0/2 [00:00<?, ?ba/s]"
      ]
     },
     "metadata": {},
     "output_type": "display_data"
    },
    {
     "data": {
      "text/plain": [
       "CommitInfo(commit_url='https://huggingface.co/datasets/stodoran/elwha-segmentation-v2/commit/52ebaf5e3fcbaf26b93db581cc85f6343965e559', commit_message='Upload dataset', commit_description='', oid='52ebaf5e3fcbaf26b93db581cc85f6343965e559', pr_url=None, pr_revision=None, pr_num=None)"
      ]
     },
     "execution_count": 6,
     "metadata": {},
     "output_type": "execute_result"
    }
   ],
   "source": [
    "train_paths_v2, _ = load_images(\"*[!_manualfix].png\", masks_folder=\"corrections_v1/\", fraction=0, exclude=exclude_names)\n",
    "train_dataset_v2 = create_dataset(*train_paths_v2)\n",
    "\n",
    "dataset = DatasetDict({\n",
    "    \"train\": train_dataset_v2,\n",
    "    \"validation\": validation_dataset_manual,\n",
    "})\n",
    "dataset.push_to_hub(\"stodoran/elwha-segmentation-v2\")"
   ]
  },
  {
   "cell_type": "markdown",
   "metadata": {},
   "source": [
    "[stodoran/elwha-segmentation-predict](https://huggingface.co/datasets/stodoran/elwha-segmentation-predict)"
   ]
  },
  {
   "cell_type": "code",
   "execution_count": 7,
   "metadata": {
    "metadata": {}
   },
   "outputs": [
    {
     "name": "stdout",
     "output_type": "stream",
     "text": [
      "Found and loaded 4382 images with glob *.png.\n",
      "Pruned 0 masks from set of 0 excluded masks.\n",
      "Subset of 4382 ground truth segmentation masks marked for Train.\n",
      "\n",
      "Found and loaded 4382 images with glob *.png.\n",
      "Pruned 0 masks from set of 0 excluded masks.\n",
      "Subset of 0 ground truth segmentation masks marked for Test.\n"
     ]
    },
    {
     "data": {
      "application/vnd.jupyter.widget-view+json": {
       "model_id": "92f69e97b7c147a09483a50648e578a2",
       "version_major": 2,
       "version_minor": 0
      },
      "text/plain": [
       "Uploading the dataset shards:   0%|          | 0/7 [00:00<?, ?it/s]"
      ]
     },
     "metadata": {},
     "output_type": "display_data"
    },
    {
     "data": {
      "application/vnd.jupyter.widget-view+json": {
       "model_id": "b8616837b8cb493295d8771cba3a5e1f",
       "version_major": 2,
       "version_minor": 0
      },
      "text/plain": [
       "Map:   0%|          | 0/626 [00:00<?, ? examples/s]"
      ]
     },
     "metadata": {},
     "output_type": "display_data"
    },
    {
     "data": {
      "application/vnd.jupyter.widget-view+json": {
       "model_id": "7d6bcc4d8e544dbca3327b8d76f79ec1",
       "version_major": 2,
       "version_minor": 0
      },
      "text/plain": [
       "Creating parquet from Arrow format:   0%|          | 0/7 [00:00<?, ?ba/s]"
      ]
     },
     "metadata": {},
     "output_type": "display_data"
    },
    {
     "data": {
      "application/vnd.jupyter.widget-view+json": {
       "model_id": "61186185f1de41468d7d92eab2667303",
       "version_major": 2,
       "version_minor": 0
      },
      "text/plain": [
       "Map:   0%|          | 0/626 [00:00<?, ? examples/s]"
      ]
     },
     "metadata": {},
     "output_type": "display_data"
    },
    {
     "data": {
      "application/vnd.jupyter.widget-view+json": {
       "model_id": "565cb826ca6444c9b218a34d06ef9556",
       "version_major": 2,
       "version_minor": 0
      },
      "text/plain": [
       "Creating parquet from Arrow format:   0%|          | 0/7 [00:00<?, ?ba/s]"
      ]
     },
     "metadata": {},
     "output_type": "display_data"
    }
   ],
   "source": [
    "train_paths_pred, _ = load_images(\"*.png\", imagery_folder=\"imagery/\", masks_folder=\"imagery/\", fraction=0)\n",
    "train_paths_pred = train_paths_pred[:2] # Remove the labels paths (3rd item in tuple)\n",
    "train_dataset_pred = create_dataset(*train_paths_pred)\n",
    "\n",
    "dataset = DatasetDict({\n",
    "    \"data\": train_dataset_pred,\n",
    "})\n",
    "dataset.push_to_hub(\"stodoran/elwha-segmentation-predict\")"
   ]
  }
 ],
 "metadata": {
  "kernelspec": {
   "display_name": "elwha_env",
   "language": "python",
   "name": "python3"
  },
  "language_info": {
   "codemirror_mode": {
    "name": "ipython",
    "version": 3
   },
   "file_extension": ".py",
   "mimetype": "text/x-python",
   "name": "python",
   "nbconvert_exporter": "python",
   "pygments_lexer": "ipython3",
   "version": "3.10.12"
  }
 },
 "nbformat": 4,
 "nbformat_minor": 2
}
