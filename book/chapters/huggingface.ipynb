{
 "cells": [
  {
   "cell_type": "code",
   "execution_count": 1,
   "metadata": {},
   "outputs": [],
   "source": [
    "from datasets import Dataset, DatasetDict, Image\n",
    "from util import TLDataset, readSetFromFile"
   ]
  },
  {
   "cell_type": "markdown",
   "metadata": {},
   "source": [
    "For the full dataset:"
   ]
  },
  {
   "cell_type": "code",
   "execution_count": 2,
   "metadata": {},
   "outputs": [],
   "source": [
    "# train_data = TLDataset(\n",
    "#     \"../learning/\", \"imagery/\", \"masks/\", \"*_corrected.png\", \n",
    "#     subset=\"Train\", fraction=0.1, seed=1,\n",
    "# )\n",
    "\n",
    "# validation_data = TLDataset(\n",
    "#     \"../learning/\", \"imagery/\", \"masks/\", \"*_corrected.png\", \n",
    "#     subset=\"Test\", fraction=0.1, seed=1,\n",
    "# )\n",
    "\n",
    "# image_paths_train = [str(path) for path in train_data.image_names]\n",
    "# label_paths_train = [str(path) for path in train_data.mask_names]\n",
    "\n",
    "# image_paths_validation = [str(path) for path in validation_data.image_names]\n",
    "# label_paths_validation = [str(path) for path in validation_data.mask_names]"
   ]
  },
  {
   "cell_type": "markdown",
   "metadata": {},
   "source": [
    "For the training dataset:"
   ]
  },
  {
   "cell_type": "code",
   "execution_count": 3,
   "metadata": {},
   "outputs": [
    {
     "name": "stdout",
     "output_type": "stream",
     "text": [
      "Found and loaded 4382 images with glob *_corrected.png.\n",
      "Subset of 4382 ground truth segmentation masks marked for Train.\n",
      "Tiny dataset train: 198 images\n",
      "Tiny dataset validation: 22 images\n"
     ]
    }
   ],
   "source": [
    "all_data = TLDataset(\n",
    "    \"../learning/\", \"imagery/\", \"masks/\", \"*_corrected.png\", \n",
    "    subset=\"Train\", fraction=0, seed=1, # We want to select every image\n",
    ")\n",
    "\n",
    "indices = readSetFromFile(\"../data/train_images.txt\")\n",
    "names = [all_data[index][\"name\"].replace(\".png\", \"\") for index in indices]\n",
    "\n",
    "cutoff = int(len(names) / 10) # fraction=0.1\n",
    "train_names = names[cutoff:]\n",
    "val_names = names[:cutoff]\n",
    "\n",
    "image_paths_train = [f\"../learning/imagery/{name}.png\" for name in train_names]\n",
    "label_paths_train = [f\"../learning/masks/{name}_corrected.png\" for name in train_names]\n",
    "\n",
    "image_paths_validation = [f\"../learning/imagery/{name}.png\" for name in val_names]\n",
    "label_paths_validation = [f\"../learning/masks/{name}_corrected.png\" for name in val_names]\n",
    "\n",
    "print(f\"Tiny dataset train: {len(train_names)} images\")\n",
    "print(f\"Tiny dataset validation: {len(val_names)} images\")"
   ]
  },
  {
   "cell_type": "code",
   "execution_count": null,
   "metadata": {},
   "outputs": [],
   "source": [
    "def createDataset(image_paths, label_paths):\n",
    "    dataset = Dataset.from_dict({\"image\": sorted(image_paths), \"label\": sorted(label_paths)})\n",
    "    dataset = dataset.cast_column(\"image\", Image())\n",
    "    dataset = dataset.cast_column(\"label\", Image())\n",
    "\n",
    "    return dataset\n",
    "\n",
    "train_dataset = createDataset(image_paths_train, label_paths_train)\n",
    "validation_dataset = createDataset(image_paths_validation, label_paths_validation)\n",
    "\n",
    "dataset = DatasetDict({\n",
    "    \"train\": train_dataset,\n",
    "    \"validation\": validation_dataset,\n",
    "})\n",
    "\n",
    "# This function assumes you have ran the huggingface-cli login command in a terminal/notebook\n",
    "dataset.push_to_hub(\"stodoran/elwha-segmentation\")"
   ]
  },
  {
   "cell_type": "markdown",
   "metadata": {},
   "source": [
    "[stodoran/elwha-segmentation](https://huggingface.co/datasets/stodoran/elwha-segmentation/tree/main)"
   ]
  }
 ],
 "metadata": {
  "kernelspec": {
   "display_name": "elwha_env",
   "language": "python",
   "name": "python3"
  },
  "language_info": {
   "codemirror_mode": {
    "name": "ipython",
    "version": 3
   },
   "file_extension": ".py",
   "mimetype": "text/x-python",
   "name": "python",
   "nbconvert_exporter": "python",
   "pygments_lexer": "ipython3",
   "version": "3.10.12"
  }
 },
 "nbformat": 4,
 "nbformat_minor": 2
}
