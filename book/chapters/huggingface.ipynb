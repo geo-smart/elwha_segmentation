{
 "cells": [
  {
   "cell_type": "code",
   "execution_count": 18,
   "metadata": {
    "metadata": {}
   },
   "outputs": [],
   "source": [
    "from datasets import Dataset, DatasetDict, Image\n",
    "from util import TLDataset, readSetFromFile\n",
    "from tqdm import tqdm"
   ]
  },
  {
   "cell_type": "code",
   "execution_count": 19,
   "metadata": {
    "metadata": {}
   },
   "outputs": [],
   "source": [
    "def loadImages(masks_glob, indices_file, fraction=0.1):\n",
    "    all_data = TLDataset(\n",
    "        \"../learning/\", \"imagery/\", \"masks/\", masks_glob, \n",
    "        subset=\"Train\", fraction=0, seed=1, # We want to select every image\n",
    "    )\n",
    "\n",
    "    indices = readSetFromFile(indices_file)\n",
    "    names = [all_data[index][\"name\"].replace(\".png\", \"\") for index in tqdm(indices)]\n",
    "\n",
    "    cutoff = int(len(names) * fraction)\n",
    "    train_names = names[cutoff:]\n",
    "    val_names = names[:cutoff]\n",
    "\n",
    "    suffix = masks_glob.replace(\"*\", \"\")\n",
    "\n",
    "    image_paths_train = [f\"../learning/imagery/{name}.png\" for name in train_names]\n",
    "    label_paths_train = [f\"../learning/masks/{name}{suffix}\" for name in train_names]\n",
    "\n",
    "    image_paths_val = [f\"../learning/imagery/{name}.png\" for name in val_names]\n",
    "    label_paths_val = [f\"../learning/masks/{name}{suffix}\" for name in val_names]\n",
    "    print(f\"Located {len(train_names)} train images\")\n",
    "    print(f\"Located {len(val_names)} validation images\")\n",
    "\n",
    "    return (train_names, image_paths_train, label_paths_train), (val_names, image_paths_val, label_paths_val)\n",
    "\n",
    "def createDataset(names, image_paths, label_paths):\n",
    "    dataset = Dataset.from_dict({\"image\": image_paths, \"label\": label_paths, \"name\": names})\n",
    "    dataset = dataset.cast_column(\"image\", Image())\n",
    "    dataset = dataset.cast_column(\"label\", Image())\n",
    "\n",
    "    return dataset"
   ]
  },
  {
   "cell_type": "markdown",
   "metadata": {},
   "source": [
    "[stodoran/elwha-segmentation-v1](stodoran/elwha-segmentation-v1)"
   ]
  },
  {
   "cell_type": "code",
   "execution_count": 20,
   "metadata": {
    "metadata": {}
   },
   "outputs": [
    {
     "name": "stdout",
     "output_type": "stream",
     "text": [
      "Found and loaded 4384 images with glob *_binary.png.\n",
      "Subset of 4384 ground truth segmentation masks marked for Train.\n"
     ]
    },
    {
     "name": "stderr",
     "output_type": "stream",
     "text": [
      "100%|██████████| 1218/1218 [00:33<00:00, 36.36it/s]\n"
     ]
    },
    {
     "name": "stdout",
     "output_type": "stream",
     "text": [
      "Located 1097 train images\n",
      "Located 121 validation images\n"
     ]
    },
    {
     "data": {
      "application/vnd.jupyter.widget-view+json": {
       "model_id": "0f81af4b832d4bcd93bd66fdcb206bf7",
       "version_major": 2,
       "version_minor": 0
      },
      "text/plain": [
       "Uploading the dataset shards:   0%|          | 0/3 [00:00<?, ?it/s]"
      ]
     },
     "metadata": {},
     "output_type": "display_data"
    },
    {
     "data": {
      "application/vnd.jupyter.widget-view+json": {
       "model_id": "7b543e90f0fd464a95b0f02a1e23b97c",
       "version_major": 2,
       "version_minor": 0
      },
      "text/plain": [
       "Map:   0%|          | 0/366 [00:00<?, ? examples/s]"
      ]
     },
     "metadata": {},
     "output_type": "display_data"
    },
    {
     "data": {
      "application/vnd.jupyter.widget-view+json": {
       "model_id": "aa1f851442914055a81bd26c57eaf2c4",
       "version_major": 2,
       "version_minor": 0
      },
      "text/plain": [
       "Creating parquet from Arrow format:   0%|          | 0/4 [00:00<?, ?ba/s]"
      ]
     },
     "metadata": {},
     "output_type": "display_data"
    },
    {
     "data": {
      "application/vnd.jupyter.widget-view+json": {
       "model_id": "342dfc5034bd48e589a431c416c775e5",
       "version_major": 2,
       "version_minor": 0
      },
      "text/plain": [
       "Map:   0%|          | 0/366 [00:00<?, ? examples/s]"
      ]
     },
     "metadata": {},
     "output_type": "display_data"
    },
    {
     "data": {
      "application/vnd.jupyter.widget-view+json": {
       "model_id": "4e9cbfedc5ca4a94891de44885d87926",
       "version_major": 2,
       "version_minor": 0
      },
      "text/plain": [
       "Creating parquet from Arrow format:   0%|          | 0/4 [00:00<?, ?ba/s]"
      ]
     },
     "metadata": {},
     "output_type": "display_data"
    },
    {
     "data": {
      "application/vnd.jupyter.widget-view+json": {
       "model_id": "3e853dbb656c4f8d8f833c8de437396f",
       "version_major": 2,
       "version_minor": 0
      },
      "text/plain": [
       "Map:   0%|          | 0/365 [00:00<?, ? examples/s]"
      ]
     },
     "metadata": {},
     "output_type": "display_data"
    },
    {
     "data": {
      "application/vnd.jupyter.widget-view+json": {
       "model_id": "568fc4ecc8a84e03a81611103d0ec399",
       "version_major": 2,
       "version_minor": 0
      },
      "text/plain": [
       "Creating parquet from Arrow format:   0%|          | 0/4 [00:00<?, ?ba/s]"
      ]
     },
     "metadata": {},
     "output_type": "display_data"
    },
    {
     "data": {
      "application/vnd.jupyter.widget-view+json": {
       "model_id": "247a239fb5c5474cb7a3b98e5e5a8564",
       "version_major": 2,
       "version_minor": 0
      },
      "text/plain": [
       "Uploading the dataset shards:   0%|          | 0/1 [00:00<?, ?it/s]"
      ]
     },
     "metadata": {},
     "output_type": "display_data"
    },
    {
     "data": {
      "application/vnd.jupyter.widget-view+json": {
       "model_id": "16decd21a88048929149109c4a2d8251",
       "version_major": 2,
       "version_minor": 0
      },
      "text/plain": [
       "Map:   0%|          | 0/121 [00:00<?, ? examples/s]"
      ]
     },
     "metadata": {},
     "output_type": "display_data"
    },
    {
     "data": {
      "application/vnd.jupyter.widget-view+json": {
       "model_id": "7d4337fb5eb4467c93ce4b32595b3222",
       "version_major": 2,
       "version_minor": 0
      },
      "text/plain": [
       "Creating parquet from Arrow format:   0%|          | 0/2 [00:00<?, ?ba/s]"
      ]
     },
     "metadata": {},
     "output_type": "display_data"
    },
    {
     "data": {
      "application/vnd.jupyter.widget-view+json": {
       "model_id": "83c465b5f8b34d5bb6e176fc964ed23e",
       "version_major": 2,
       "version_minor": 0
      },
      "text/plain": [
       "README.md:   0%|          | 0.00/444 [00:00<?, ?B/s]"
      ]
     },
     "metadata": {},
     "output_type": "display_data"
    },
    {
     "data": {
      "text/plain": [
       "CommitInfo(commit_url='https://huggingface.co/datasets/stodoran/elwha-segmentation-v1/commit/bdadc0d37acac852884ec84a0bdd885173b306ae', commit_message='Upload dataset', commit_description='', oid='bdadc0d37acac852884ec84a0bdd885173b306ae', pr_url=None, pr_revision=None, pr_num=None)"
      ]
     },
     "execution_count": 20,
     "metadata": {},
     "output_type": "execute_result"
    }
   ],
   "source": [
    "train_paths, val_paths = loadImages(\"*_binary.png\", \"../data/useful_images.txt\")\n",
    "train_dataset = createDataset(*train_paths)\n",
    "validation_dataset = createDataset(*val_paths)\n",
    "\n",
    "dataset = DatasetDict({\n",
    "    \"train\": train_dataset,\n",
    "    \"validation\": validation_dataset,\n",
    "})\n",
    "\n",
    "# This function assumes you have ran the huggingface-cli login command in a terminal/notebook\n",
    "dataset.push_to_hub(\"stodoran/elwha-segmentation-v1\")"
   ]
  },
  {
   "cell_type": "markdown",
   "metadata": {},
   "source": [
    "Manually created training dataset:\n",
    "\n",
    "[stodoran/elwha-segmentation](https://huggingface.co/datasets/stodoran/elwha-segmentation/tree/main)"
   ]
  },
  {
   "cell_type": "code",
   "execution_count": null,
   "metadata": {},
   "outputs": [],
   "source": [
    "train_paths, val_paths = loadImages(\"*_corrected.png\", \"../data/train_images.txt\")\n",
    "train_dataset = createDataset(*train_paths)\n",
    "validation_dataset = createDataset(*val_paths)\n",
    "\n",
    "dataset = DatasetDict({\n",
    "    \"train\": train_dataset,\n",
    "    \"validation\": validation_dataset,\n",
    "})\n",
    "dataset.push_to_hub(\"stodoran/elwha-segmentation\")"
   ]
  },
  {
   "cell_type": "code",
   "execution_count": null,
   "metadata": {},
   "outputs": [],
   "source": [
    "# all_data = TLDataset(\n",
    "#     \"../learning/\", \"imagery/\", \"masks/\", \"*_corrected.png\", \n",
    "#     subset=\"Train\", fraction=0, seed=1, # We want to select every image\n",
    "# )\n",
    "\n",
    "# indices = readSetFromFile(\"../data/train_images.txt\")\n",
    "# names = [all_data[index][\"name\"].replace(\".png\", \"\") for index in indices]\n",
    "\n",
    "# cutoff = int(len(names) / 10) # fraction=0.1\n",
    "# train_names = names[cutoff:]\n",
    "# val_names = names[:cutoff]\n",
    "\n",
    "# image_paths_train = [f\"../learning/imagery/{name}.png\" for name in train_names]\n",
    "# label_paths_train = [f\"../learning/masks/{name}_corrected.png\" for name in train_names]\n",
    "\n",
    "# image_paths_validation = [f\"../learning/imagery/{name}.png\" for name in val_names]\n",
    "# label_paths_validation = [f\"../learning/masks/{name}_corrected.png\" for name in val_names]\n",
    "\n",
    "# print(f\"Tiny dataset train: {len(train_names)} images\")\n",
    "# print(f\"Tiny dataset validation: {len(val_names)} images\")\n",
    "\n",
    "# train_dataset = createDataset(image_paths_train, label_paths_train)\n",
    "# validation_dataset = createDataset(image_paths_validation, label_paths_validation)\n",
    "\n",
    "# dataset = DatasetDict({\n",
    "#     \"train\": train_dataset,\n",
    "#     \"validation\": validation_dataset,\n",
    "# })\n",
    "\n",
    "# # This function assumes you have ran the huggingface-cli login command in a terminal/notebook\n",
    "# dataset.push_to_hub(\"stodoran/elwha-segmentation\")"
   ]
  }
 ],
 "metadata": {
  "kernelspec": {
   "display_name": "elwha_env",
   "language": "python",
   "name": "python3"
  },
  "language_info": {
   "codemirror_mode": {
    "name": "ipython",
    "version": 3
   },
   "file_extension": ".py",
   "mimetype": "text/x-python",
   "name": "python",
   "nbconvert_exporter": "python",
   "pygments_lexer": "ipython3",
   "version": "3.10.12"
  }
 },
 "nbformat": 4,
 "nbformat_minor": 2
}
