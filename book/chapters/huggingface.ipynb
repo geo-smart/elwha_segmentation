{
 "cells": [
  {
   "cell_type": "code",
   "execution_count": 1,
   "metadata": {
    "metadata": {}
   },
   "outputs": [],
   "source": [
    "from datasets import Dataset, DatasetDict, Image\n",
    "from util import TLDataset, readSetFromFile\n",
    "import numpy as np"
   ]
  },
  {
   "cell_type": "code",
   "execution_count": 2,
   "metadata": {
    "metadata": {}
   },
   "outputs": [],
   "source": [
    "def loadImages(masks_glob, indices_file, fraction=0.1, exclude=[]):\n",
    "    all_data = TLDataset(\n",
    "        \"../learning/\", \"imagery/\", \"masks/\", masks_glob, \n",
    "        subset=\"Train\", fraction=0, seed=1, # We want to select every image\n",
    "    )\n",
    "\n",
    "    indices = list(readSetFromFile(indices_file))\n",
    "    all_names = np.array([name.replace(\".png\", \"\") for name in all_data.names])\n",
    "    selected_names = all_names[indices]\n",
    "    names = [name for name in selected_names if name not in exclude]\n",
    "    if exclude: print(f\"Excluded {len(selected_names) - len(names)} images\")\n",
    "\n",
    "    cutoff = int(len(names) * fraction)\n",
    "    train_names = names[cutoff:]\n",
    "    val_names = names[:cutoff]\n",
    "    suffix = masks_glob.replace(\"*\", \"\")\n",
    "\n",
    "    image_paths_train = [f\"../learning/imagery/{name}.png\" for name in train_names]\n",
    "    label_paths_train = [f\"../learning/masks/{name}{suffix}\" for name in train_names]\n",
    "\n",
    "    image_paths_val = [f\"../learning/imagery/{name}.png\" for name in val_names]\n",
    "    label_paths_val = [f\"../learning/masks/{name}{suffix}\" for name in val_names]\n",
    "    print(f\"Located {len(train_names)} train images\")\n",
    "    if (val_names): print(f\"Located {len(val_names)} validation images\")\n",
    "\n",
    "    return (train_names, image_paths_train, label_paths_train), (val_names, image_paths_val, label_paths_val)\n",
    "\n",
    "def createDataset(names, image_paths, label_paths):\n",
    "    dataset = Dataset.from_dict({\"image\": image_paths, \"label\": label_paths, \"name\": names})\n",
    "    dataset = dataset.cast_column(\"image\", Image())\n",
    "    dataset = dataset.cast_column(\"label\", Image())\n",
    "\n",
    "    return dataset"
   ]
  },
  {
   "cell_type": "markdown",
   "metadata": {},
   "source": [
    "[stodoran/elwha-segmentation-manual](https://huggingface.co/datasets/stodoran/elwha-segmentation-manual)"
   ]
  },
  {
   "cell_type": "code",
   "execution_count": 3,
   "metadata": {
    "metadata": {}
   },
   "outputs": [
    {
     "name": "stdout",
     "output_type": "stream",
     "text": [
      "Found and loaded 4382 images with glob *_corrected.png.\n",
      "Subset of 4382 ground truth segmentation masks marked for Train.\n",
      "Located 125 train images\n",
      "Located 101 validation images\n"
     ]
    },
    {
     "data": {
      "application/vnd.jupyter.widget-view+json": {
       "model_id": "4300794666704725a5a27ded62ab94cf",
       "version_major": 2,
       "version_minor": 0
      },
      "text/plain": [
       "Uploading the dataset shards:   0%|          | 0/1 [00:00<?, ?it/s]"
      ]
     },
     "metadata": {},
     "output_type": "display_data"
    },
    {
     "data": {
      "application/vnd.jupyter.widget-view+json": {
       "model_id": "ab50808e634444a68286a64941633655",
       "version_major": 2,
       "version_minor": 0
      },
      "text/plain": [
       "Map:   0%|          | 0/125 [00:00<?, ? examples/s]"
      ]
     },
     "metadata": {},
     "output_type": "display_data"
    },
    {
     "data": {
      "application/vnd.jupyter.widget-view+json": {
       "model_id": "9277b4ae049948979b777e098e379fe2",
       "version_major": 2,
       "version_minor": 0
      },
      "text/plain": [
       "Creating parquet from Arrow format:   0%|          | 0/2 [00:00<?, ?ba/s]"
      ]
     },
     "metadata": {},
     "output_type": "display_data"
    },
    {
     "data": {
      "application/vnd.jupyter.widget-view+json": {
       "model_id": "66dd3c2adfa4470a9d552142a3bc8824",
       "version_major": 2,
       "version_minor": 0
      },
      "text/plain": [
       "Uploading the dataset shards:   0%|          | 0/1 [00:00<?, ?it/s]"
      ]
     },
     "metadata": {},
     "output_type": "display_data"
    },
    {
     "data": {
      "application/vnd.jupyter.widget-view+json": {
       "model_id": "a297fb0b4bbb4bfe88f6718324ea0859",
       "version_major": 2,
       "version_minor": 0
      },
      "text/plain": [
       "Map:   0%|          | 0/101 [00:00<?, ? examples/s]"
      ]
     },
     "metadata": {},
     "output_type": "display_data"
    },
    {
     "data": {
      "application/vnd.jupyter.widget-view+json": {
       "model_id": "c8d9f333a2e0422f94b167c4b70b8631",
       "version_major": 2,
       "version_minor": 0
      },
      "text/plain": [
       "Creating parquet from Arrow format:   0%|          | 0/2 [00:00<?, ?ba/s]"
      ]
     },
     "metadata": {},
     "output_type": "display_data"
    },
    {
     "data": {
      "application/vnd.jupyter.widget-view+json": {
       "model_id": "93ed543345e1486c90bf8dcd3e44c995",
       "version_major": 2,
       "version_minor": 0
      },
      "text/plain": [
       "README.md:   0%|          | 0.00/469 [00:00<?, ?B/s]"
      ]
     },
     "metadata": {},
     "output_type": "display_data"
    },
    {
     "data": {
      "text/plain": [
       "CommitInfo(commit_url='https://huggingface.co/datasets/stodoran/elwha-segmentation-manual/commit/aaf0d1241aca825d7a51abe0163422573b85b064', commit_message='Upload dataset', commit_description='', oid='aaf0d1241aca825d7a51abe0163422573b85b064', pr_url=None, pr_revision=None, pr_num=None)"
      ]
     },
     "execution_count": 3,
     "metadata": {},
     "output_type": "execute_result"
    }
   ],
   "source": [
    "train_paths, val_paths = loadImages(\"*_corrected.png\", \"../data/train_images.txt\", fraction=0.45)\n",
    "train_dataset_manual = createDataset(*train_paths)\n",
    "validation_dataset_manual = createDataset(*val_paths)\n",
    "\n",
    "dataset = DatasetDict({\n",
    "    \"train\": train_dataset_manual,\n",
    "    \"validation\": validation_dataset_manual,\n",
    "})\n",
    "dataset.push_to_hub(\"stodoran/elwha-segmentation-manual\")"
   ]
  },
  {
   "cell_type": "markdown",
   "metadata": {},
   "source": [
    "The extra image names set to be excluded are additional datapoints used for validation experiments and must not be trained on."
   ]
  },
  {
   "cell_type": "code",
   "execution_count": 4,
   "metadata": {
    "metadata": {}
   },
   "outputs": [],
   "source": [
    "exclude_names = val_paths[0] + [\"Elwha_MR_20160714_062_014\", \"Elwha_MR_20170922_062_014\"]"
   ]
  },
  {
   "cell_type": "markdown",
   "metadata": {},
   "source": [
    "[stodoran/elwha-segmentation-v1](https://huggingface.co/datasets/stodoran/elwha-segmentation-v1)"
   ]
  },
  {
   "cell_type": "code",
   "execution_count": 5,
   "metadata": {
    "metadata": {}
   },
   "outputs": [
    {
     "name": "stdout",
     "output_type": "stream",
     "text": [
      "Found and loaded 4384 images with glob *_binary.png.\n",
      "Subset of 4384 ground truth segmentation masks marked for Train.\n",
      "Excluded 69 images\n",
      "Located 1149 train images\n"
     ]
    },
    {
     "data": {
      "application/vnd.jupyter.widget-view+json": {
       "model_id": "889b4808d912480eb1545e1d66e680de",
       "version_major": 2,
       "version_minor": 0
      },
      "text/plain": [
       "Uploading the dataset shards:   0%|          | 0/3 [00:00<?, ?it/s]"
      ]
     },
     "metadata": {},
     "output_type": "display_data"
    },
    {
     "data": {
      "application/vnd.jupyter.widget-view+json": {
       "model_id": "3837ad0bbe1a44a9b339a06fe5d288b1",
       "version_major": 2,
       "version_minor": 0
      },
      "text/plain": [
       "Map:   0%|          | 0/383 [00:00<?, ? examples/s]"
      ]
     },
     "metadata": {},
     "output_type": "display_data"
    },
    {
     "data": {
      "application/vnd.jupyter.widget-view+json": {
       "model_id": "bbe6f2fc472d4ff0a1318b1d22d999d4",
       "version_major": 2,
       "version_minor": 0
      },
      "text/plain": [
       "Creating parquet from Arrow format:   0%|          | 0/4 [00:00<?, ?ba/s]"
      ]
     },
     "metadata": {},
     "output_type": "display_data"
    },
    {
     "data": {
      "application/vnd.jupyter.widget-view+json": {
       "model_id": "729ec8aa402c4d64847a8331fd5f9eb8",
       "version_major": 2,
       "version_minor": 0
      },
      "text/plain": [
       "Map:   0%|          | 0/383 [00:00<?, ? examples/s]"
      ]
     },
     "metadata": {},
     "output_type": "display_data"
    },
    {
     "data": {
      "application/vnd.jupyter.widget-view+json": {
       "model_id": "5cc96f44771d4ee79c46ecdb88263116",
       "version_major": 2,
       "version_minor": 0
      },
      "text/plain": [
       "Creating parquet from Arrow format:   0%|          | 0/4 [00:00<?, ?ba/s]"
      ]
     },
     "metadata": {},
     "output_type": "display_data"
    },
    {
     "data": {
      "application/vnd.jupyter.widget-view+json": {
       "model_id": "40de22073f8e47beb222456be15c1753",
       "version_major": 2,
       "version_minor": 0
      },
      "text/plain": [
       "Map:   0%|          | 0/383 [00:00<?, ? examples/s]"
      ]
     },
     "metadata": {},
     "output_type": "display_data"
    },
    {
     "data": {
      "application/vnd.jupyter.widget-view+json": {
       "model_id": "abaf9713fcb04ec1a3179d2ce3cb74f7",
       "version_major": 2,
       "version_minor": 0
      },
      "text/plain": [
       "Creating parquet from Arrow format:   0%|          | 0/4 [00:00<?, ?ba/s]"
      ]
     },
     "metadata": {},
     "output_type": "display_data"
    },
    {
     "data": {
      "application/vnd.jupyter.widget-view+json": {
       "model_id": "c943431f2e5840c69d639c5f8ac17d0c",
       "version_major": 2,
       "version_minor": 0
      },
      "text/plain": [
       "Uploading the dataset shards:   0%|          | 0/1 [00:00<?, ?it/s]"
      ]
     },
     "metadata": {},
     "output_type": "display_data"
    },
    {
     "data": {
      "application/vnd.jupyter.widget-view+json": {
       "model_id": "6559d371382a42308c71b04d195ecc20",
       "version_major": 2,
       "version_minor": 0
      },
      "text/plain": [
       "Map:   0%|          | 0/101 [00:00<?, ? examples/s]"
      ]
     },
     "metadata": {},
     "output_type": "display_data"
    },
    {
     "data": {
      "application/vnd.jupyter.widget-view+json": {
       "model_id": "28dd9609d7db4c0fb9d30a133562d6fa",
       "version_major": 2,
       "version_minor": 0
      },
      "text/plain": [
       "Creating parquet from Arrow format:   0%|          | 0/2 [00:00<?, ?ba/s]"
      ]
     },
     "metadata": {},
     "output_type": "display_data"
    },
    {
     "data": {
      "application/vnd.jupyter.widget-view+json": {
       "model_id": "3e15945cf9134241972efd84c18b584c",
       "version_major": 2,
       "version_minor": 0
      },
      "text/plain": [
       "README.md:   0%|          | 0.00/357 [00:00<?, ?B/s]"
      ]
     },
     "metadata": {},
     "output_type": "display_data"
    },
    {
     "data": {
      "text/plain": [
       "CommitInfo(commit_url='https://huggingface.co/datasets/stodoran/elwha-segmentation-v1/commit/663917582116d9db71121180e927b485db30b3dd', commit_message='Upload dataset', commit_description='', oid='663917582116d9db71121180e927b485db30b3dd', pr_url=None, pr_revision=None, pr_num=None)"
      ]
     },
     "execution_count": 5,
     "metadata": {},
     "output_type": "execute_result"
    }
   ],
   "source": [
    "train_paths_v1, _ = loadImages(\"*_binary.png\", \"../data/useful_images.txt\", fraction=0, exclude=exclude_names)\n",
    "train_dataset_v1 = createDataset(*train_paths_v1)\n",
    "\n",
    "dataset = DatasetDict({\n",
    "    \"train\": train_dataset_v1,\n",
    "    \"validation\": validation_dataset_manual,\n",
    "})\n",
    "\n",
    "# This function assumes you have ran the huggingface-cli login command in a terminal/notebook\n",
    "dataset.push_to_hub(\"stodoran/elwha-segmentation-v1\")"
   ]
  }
 ],
 "metadata": {
  "kernelspec": {
   "display_name": "elwha_env",
   "language": "python",
   "name": "python3"
  },
  "language_info": {
   "codemirror_mode": {
    "name": "ipython",
    "version": 3
   },
   "file_extension": ".py",
   "mimetype": "text/x-python",
   "name": "python",
   "nbconvert_exporter": "python",
   "pygments_lexer": "ipython3",
   "version": "3.10.12"
  }
 },
 "nbformat": 4,
 "nbformat_minor": 2
}
